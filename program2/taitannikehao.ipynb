{
 "cells": [
  {
   "cell_type": "markdown",
   "metadata": {},
   "source": [
    "## 关于泰坦尼克号生存率的数据分析\n",
    "\n",
    "   首先通过观察数据，可以了解到每位旅客的详细数据：\n",
    "\n",
    " - **Survived**：是否存活（0代表否，1代表是）\n",
    " - **Pclass**：舱位（一等舱，二等舱，三等舱）\n",
    " - **Name**：船上乘客的名字\n",
    " - **Sex**：船上乘客的性别\n",
    " - **Age**：船上乘客的年龄（可能存在 NaN）\n",
    " - **SibSp**：乘客在船上的兄弟姐妹和配偶的数量\n",
    " - **Parch**：乘客在船上的父母以及小孩的数量\n",
    " - **Ticket**：乘客船票的编号\n",
    " - **Fare**：乘客为船票支付的费用\n",
    " - **Cabin**：乘客所在船舱的编号（可能存在 NaN）\n",
    " - **Embarked**：乘客上船的港口（C 代表从 Cherbourg 登船，Q 代表从 Queenstown 登船，S 代表从 Southampton 登船）\n",
    "\n",
    "通过对原始数据的初步观察可以发现存活率和社会等级，性别，年龄，在船上的兄弟姐妹和配偶数量，在船上的父母以及小孩的数量有着某种联系。因此根据初步推测可以提出以下几个问题并进行分析：\n",
    " - 乘客的存活率和其社会等级是否有关系？是否社会等级越高存活率就越高？\n",
    " - 乘客的存活率和其性别，年龄又有什么关系？\n",
    " - 乘客的存活率和其在船上的兄弟姐妹和配偶数量，父母以及小孩的数量又有什么联系？\n",
    "\n",
    "\n",
    "\n"
   ]
  },
  {
   "cell_type": "code",
   "execution_count": 1,
   "metadata": {},
   "outputs": [
    {
     "data": {
      "text/html": [
       "<div>\n",
       "<style>\n",
       "    .dataframe thead tr:only-child th {\n",
       "        text-align: right;\n",
       "    }\n",
       "\n",
       "    .dataframe thead th {\n",
       "        text-align: left;\n",
       "    }\n",
       "\n",
       "    .dataframe tbody tr th {\n",
       "        vertical-align: top;\n",
       "    }\n",
       "</style>\n",
       "<table border=\"1\" class=\"dataframe\">\n",
       "  <thead>\n",
       "    <tr style=\"text-align: right;\">\n",
       "      <th></th>\n",
       "      <th>PassengerId</th>\n",
       "      <th>Survived</th>\n",
       "      <th>Pclass</th>\n",
       "      <th>Age</th>\n",
       "      <th>SibSp</th>\n",
       "      <th>Parch</th>\n",
       "      <th>Fare</th>\n",
       "    </tr>\n",
       "  </thead>\n",
       "  <tbody>\n",
       "    <tr>\n",
       "      <th>count</th>\n",
       "      <td>891.000000</td>\n",
       "      <td>891.000000</td>\n",
       "      <td>891.000000</td>\n",
       "      <td>714.000000</td>\n",
       "      <td>891.000000</td>\n",
       "      <td>891.000000</td>\n",
       "      <td>891.000000</td>\n",
       "    </tr>\n",
       "    <tr>\n",
       "      <th>mean</th>\n",
       "      <td>446.000000</td>\n",
       "      <td>0.383838</td>\n",
       "      <td>2.308642</td>\n",
       "      <td>29.699118</td>\n",
       "      <td>0.523008</td>\n",
       "      <td>0.381594</td>\n",
       "      <td>32.204208</td>\n",
       "    </tr>\n",
       "    <tr>\n",
       "      <th>std</th>\n",
       "      <td>257.353842</td>\n",
       "      <td>0.486592</td>\n",
       "      <td>0.836071</td>\n",
       "      <td>14.526497</td>\n",
       "      <td>1.102743</td>\n",
       "      <td>0.806057</td>\n",
       "      <td>49.693429</td>\n",
       "    </tr>\n",
       "    <tr>\n",
       "      <th>min</th>\n",
       "      <td>1.000000</td>\n",
       "      <td>0.000000</td>\n",
       "      <td>1.000000</td>\n",
       "      <td>0.420000</td>\n",
       "      <td>0.000000</td>\n",
       "      <td>0.000000</td>\n",
       "      <td>0.000000</td>\n",
       "    </tr>\n",
       "    <tr>\n",
       "      <th>25%</th>\n",
       "      <td>223.500000</td>\n",
       "      <td>0.000000</td>\n",
       "      <td>2.000000</td>\n",
       "      <td>20.125000</td>\n",
       "      <td>0.000000</td>\n",
       "      <td>0.000000</td>\n",
       "      <td>7.910400</td>\n",
       "    </tr>\n",
       "    <tr>\n",
       "      <th>50%</th>\n",
       "      <td>446.000000</td>\n",
       "      <td>0.000000</td>\n",
       "      <td>3.000000</td>\n",
       "      <td>28.000000</td>\n",
       "      <td>0.000000</td>\n",
       "      <td>0.000000</td>\n",
       "      <td>14.454200</td>\n",
       "    </tr>\n",
       "    <tr>\n",
       "      <th>75%</th>\n",
       "      <td>668.500000</td>\n",
       "      <td>1.000000</td>\n",
       "      <td>3.000000</td>\n",
       "      <td>38.000000</td>\n",
       "      <td>1.000000</td>\n",
       "      <td>0.000000</td>\n",
       "      <td>31.000000</td>\n",
       "    </tr>\n",
       "    <tr>\n",
       "      <th>max</th>\n",
       "      <td>891.000000</td>\n",
       "      <td>1.000000</td>\n",
       "      <td>3.000000</td>\n",
       "      <td>80.000000</td>\n",
       "      <td>8.000000</td>\n",
       "      <td>6.000000</td>\n",
       "      <td>512.329200</td>\n",
       "    </tr>\n",
       "  </tbody>\n",
       "</table>\n",
       "</div>"
      ],
      "text/plain": [
       "       PassengerId    Survived      Pclass         Age       SibSp  \\\n",
       "count   891.000000  891.000000  891.000000  714.000000  891.000000   \n",
       "mean    446.000000    0.383838    2.308642   29.699118    0.523008   \n",
       "std     257.353842    0.486592    0.836071   14.526497    1.102743   \n",
       "min       1.000000    0.000000    1.000000    0.420000    0.000000   \n",
       "25%     223.500000    0.000000    2.000000   20.125000    0.000000   \n",
       "50%     446.000000    0.000000    3.000000   28.000000    0.000000   \n",
       "75%     668.500000    1.000000    3.000000   38.000000    1.000000   \n",
       "max     891.000000    1.000000    3.000000   80.000000    8.000000   \n",
       "\n",
       "            Parch        Fare  \n",
       "count  891.000000  891.000000  \n",
       "mean     0.381594   32.204208  \n",
       "std      0.806057   49.693429  \n",
       "min      0.000000    0.000000  \n",
       "25%      0.000000    7.910400  \n",
       "50%      0.000000   14.454200  \n",
       "75%      0.000000   31.000000  \n",
       "max      6.000000  512.329200  "
      ]
     },
     "execution_count": 1,
     "metadata": {},
     "output_type": "execute_result"
    }
   ],
   "source": [
    "import numpy as np\n",
    "import pandas as pd\n",
    "import matplotlib.pyplot as plt\n",
    "import pylab as pl\n",
    "%matplotlib inline\n",
    "filename = './titanic-data.csv'\n",
    "titanic_df = pd.read_csv(filename)\n",
    "titanic_df.describe()\n"
   ]
  },
  {
   "cell_type": "markdown",
   "metadata": {},
   "source": [
    " - 首先，我们观察一下几个比较重要的数值，初步得出一些结论，比如只有‘Age’这一列存在缺失值，整体的存活率只有0.383838。"
   ]
  },
  {
   "cell_type": "code",
   "execution_count": 2,
   "metadata": {},
   "outputs": [
    {
     "name": "stdout",
     "output_type": "stream",
     "text": [
      "Pclass\n",
      "1    0.629630\n",
      "2    0.472826\n",
      "3    0.242363\n",
      "Name: Survived, dtype: float64\n",
      "Axes(0.125,0.125;0.775x0.755)\n"
     ]
    },
    {
     "data": {
      "image/png": "[encoded data removed]",
      "text/plain": [
       "<matplotlib.figure.Figure at 0x108d48e50>"
      ]
     },
     "metadata": {},
     "output_type": "display_data"
    }
   ],
   "source": [
    "\n",
    "Pclass_survived = titanic_df.groupby('Pclass').mean()['Survived']\n",
    "\n",
    "print Pclass_survived\n",
    "print Pclass_survived.plot.bar()\n"
   ]
  },
  {
   "cell_type": "markdown",
   "metadata": {},
   "source": [
    " - 根据以上求得的不同舱位的生存率以及相关的直方图，基本上可以得出结论：头等舱的生存率最高，经济舱的生存率最低。生存率和舱位的等级有着一定的联系。间接的说明了一个现实问题：社交地位越高生存机率越高。"
   ]
  },
  {
   "cell_type": "code",
   "execution_count": 3,
   "metadata": {},
   "outputs": [
    {
     "name": "stdout",
     "output_type": "stream",
     "text": [
      "Sex\n",
      "female    314\n",
      "male      577\n",
      "Name: PassengerId, dtype: int64\n",
      "Sex\n",
      "female    0.742038\n",
      "male      0.188908\n",
      "Name: Survived, dtype: float64\n",
      "Axes(0.125,0.125;0.775x0.755)\n"
     ]
    },
    {
     "data": {
      "image/png": "[encoded data removed]",
      "text/plain": [
       "<matplotlib.figure.Figure at 0x108d6a050>"
      ]
     },
     "metadata": {},
     "output_type": "display_data"
    }
   ],
   "source": [
    "num_sex = titanic_df.groupby('Sex').count()['PassengerId']\n",
    "print num_sex\n",
    "Sex_survived = titanic_df.groupby('Sex').mean()['Survived']\n",
    "print Sex_survived\n",
    "print Sex_survived.plot.bar()"
   ]
  },
  {
   "cell_type": "markdown",
   "metadata": {},
   "source": [
    " - 我们可以清晰的看到虽然船上的男性人数显著多于女性人数，但是女性的存活率高达74%，而男性的存活率只有19%。这说明在逃生的时候会有男性保护女性的情况。一般是女先男后。"
   ]
  },
  {
   "cell_type": "code",
   "execution_count": 4,
   "metadata": {},
   "outputs": [
    {
     "name": "stdout",
     "output_type": "stream",
     "text": [
      "Age_bins\n",
      "(0, 10]     0.593750\n",
      "(10, 20]    0.382609\n",
      "(20, 30]    0.365217\n",
      "(30, 40]    0.445161\n",
      "(40, 50]    0.383721\n",
      "(50, 60]    0.404762\n",
      "(60, 70]    0.235294\n",
      "Name: Survived, dtype: float64\n",
      "Age_bins\n",
      "(0, 10]      64\n",
      "(10, 20]    115\n",
      "(20, 30]    230\n",
      "(30, 40]    155\n",
      "(40, 50]     86\n",
      "(50, 60]     42\n",
      "(60, 70]     17\n",
      "Name: Survived, dtype: int64\n"
     ]
    }
   ],
   "source": [
    "titanic_df['Age_bins'] = pd.cut(titanic_df['Age'],range(0,80,10))\n",
    "Age_survived = titanic_df.groupby('Age_bins').mean()['Survived']\n",
    "Sort_survived = titanic_df.groupby('Age_bins').count()['Survived']\n",
    "print Age_survived\n",
    "print Sort_survived \n"
   ]
  },
  {
   "cell_type": "code",
   "execution_count": 5,
   "metadata": {},
   "outputs": [
    {
     "data": {
      "text/plain": [
       "<matplotlib.axes._subplots.AxesSubplot at 0x111c14350>"
      ]
     },
     "execution_count": 5,
     "metadata": {},
     "output_type": "execute_result"
    },
    {
     "data": {
      "image/png": "[encoded data removed]",
      "text/plain": [
       "<matplotlib.figure.Figure at 0x111aba410>"
      ]
     },
     "metadata": {},
     "output_type": "display_data"
    }
   ],
   "source": [
    "Age_survived.plot(kind='bar', stacked=True)"
   ]
  },
  {
   "cell_type": "markdown",
   "metadata": {},
   "source": [
    " - 可见0～10岁的儿童成活率是最高的，也说明了在家长陪同下的婴幼儿受到了很好的保护，超过60岁的老年人成活率非常低，由此我们可以推测老年人可能会因为年迈行动不便而导致在灾难中无法及时脱身。在10～60各个年龄阶段的生存率几本相等。"
   ]
  },
  {
   "cell_type": "code",
   "execution_count": 6,
   "metadata": {},
   "outputs": [
    {
     "name": "stdout",
     "output_type": "stream",
     "text": [
      "SibSp\n",
      "0    0.345395\n",
      "1    0.535885\n",
      "2    0.464286\n",
      "3    0.250000\n",
      "4    0.166667\n",
      "5    0.000000\n",
      "8    0.000000\n",
      "Name: Survived, dtype: float64\n",
      "Parch\n",
      "0    0.343658\n",
      "1    0.550847\n",
      "2    0.500000\n",
      "3    0.600000\n",
      "4    0.000000\n",
      "5    0.200000\n",
      "6    0.000000\n",
      "Name: Survived, dtype: float64\n"
     ]
    }
   ],
   "source": [
    "SibSp_survived = titanic_df.groupby('SibSp').mean()['Survived'][1,2,3,4], [1,4,9,16]\n",
    "Parch_survived = titanic_df.groupby('Parch').mean()['Survived']\n",
    "print SibSp_survived\n",
    "print Parch_survived"
   ]
  },
  {
   "cell_type": "code",
   "execution_count": null,
   "metadata": {
    "collapsed": true
   },
   "outputs": [],
   "source": []
  },
  {
   "cell_type": "code",
   "execution_count": 26,
   "metadata": {},
   "outputs": [
    {
     "data": {
      "text/plain": [
       "<matplotlib.legend.Legend at 0x112d08290>"
      ]
     },
     "execution_count": 26,
     "metadata": {},
     "output_type": "execute_result"
    },
    {
     "data": {
      "image/png": "[encoded data removed]",
      "text/plain": [
       "<matplotlib.figure.Figure at 0x112cb0610>"
      ]
     },
     "metadata": {},
     "output_type": "display_data"
    }
   ],
   "source": [
    "plt.xlabel(\"SibSp and Parch\")\n",
    "plt.ylabel(\"Survival Rate\")\n",
    "plt.title(\"Survival Rate of SibSp and Parch \")\n",
    "line_up = plt.plot(SibSp_survived,'ro',label='SibSp')\n",
    "line_down = plt.plot(Parch_survived,label='Parch')\n",
    "plt.axis([0, 8, 0, 1])\n",
    "plt.legend()\n",
    "\n"
   ]
  },
  {
   "cell_type": "markdown",
   "metadata": {},
   "source": [
    " - 通过乘客在船上的家庭成员数量与生存率的折线图可以看出：家庭成员数在1～3之间的时候生存率是比较高的，在船上没有家庭成员的相对有1～3个的生存率就比较低了，当家庭成员的数量超过4的时候就更低了，甚至到6～8个的生存率直接为零，所以有2～3个结伴而行的时候会利于生还，当结伴而行人数太多的时候反而不利于生还了。"
   ]
  },
  {
   "cell_type": "markdown",
   "metadata": {},
   "source": [
    " ### 综合以上分析可以得出结论\n",
    " \n",
    " 根据对数据的一些分析得到的结果基本和猜测的一致，女性生存率男性的3倍还要多，对舱位的大体分析可以看出头等舱二等舱的生存率是比较高的，这也客观的反映了当时对富人阶级的优待，可猜测在头等舱和二等舱放的救生艇会更多，关于年龄，只能明确得出0～10岁的生存率最高，老年人最低，符合常理，其他年龄阶段存在一定的局限性，另外，我们在外出的时候结伴而行的人数1～2为宜，不宜过多。"
   ]
  },
  {
   "cell_type": "markdown",
   "metadata": {
    "collapsed": true
   },
   "source": [
    " - 参考文献：\n",
    "\n",
    "\n",
    " - [泰坦尼克号的详细参考文献](https:://news.ifeng.com/a/20170901/51841421_0.shtml)\n",
    " - [pandas的可视化函数](http:://cloga.info/python/2014/02/23/plotting_with_pandas)\n",
    " - [Python 数据可视化入门](http:://www.datahub.top/coursedetail/?id=29)"
   ]
  }
 ],
 "metadata": {
  "kernelspec": {
   "display_name": "Python 2",
   "language": "python",
   "name": "python2"
  },
  "language_info": {
   "codemirror_mode": {
    "name": "ipython",
    "version": 2
   },
   "file_extension": ".py",
   "mimetype": "text/x-python",
   "name": "python",
   "nbconvert_exporter": "python",
   "pygments_lexer": "ipython2",
   "version": "2.7.13"
  }
 },
 "nbformat": 4,
 "nbformat_minor": 2
}
